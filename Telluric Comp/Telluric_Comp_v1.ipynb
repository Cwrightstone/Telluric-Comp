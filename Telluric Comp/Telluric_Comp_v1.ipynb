{
 "cells": [
  {
   "cell_type": "code",
   "execution_count": null,
   "metadata": {},
   "outputs": [],
   "source": [
    "\"\"\"\n",
    "Welcome to Telluric_Comp_v1!!\n",
    "\n",
    "Creator - Chris Wrightstone\n",
    "\n",
    "\n",
    "Instructions\n",
    "1. Inputting your data\n",
    "2.\n",
    "3.\n",
    "4.\n",
    "5.\n",
    "\n",
    "\n",
    "\"\"\""
   ]
  },
  {
   "cell_type": "code",
   "execution_count": null,
   "metadata": {},
   "outputs": [],
   "source": [
    "import pandas as pd\n",
    "import csv\n",
    "import datetime\n"
   ]
  },
  {
   "cell_type": "code",
   "execution_count": null,
   "metadata": {},
   "outputs": [],
   "source": [
    "# Input the SDL data\n",
    "US_SDL = []\n",
    "DS_SDL = []\n",
    "\n",
    "# Input the CIS data\n",
    "CIS = []\n",
    "\n"
   ]
  }
 ],
 "metadata": {
  "language_info": {
   "name": "python"
  },
  "orig_nbformat": 4
 },
 "nbformat": 4,
 "nbformat_minor": 2
}
